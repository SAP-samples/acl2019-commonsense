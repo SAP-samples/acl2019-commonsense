{
 "cells": [
  {
   "cell_type": "code",
   "execution_count": 1,
   "metadata": {},
   "outputs": [],
   "source": [
    "from transformers import *\n",
    "from MAS import MAS"
   ]
  },
  {
   "cell_type": "code",
   "execution_count": 2,
   "metadata": {},
   "outputs": [],
   "source": [
    "# Load pretrained model/tokenizer\n",
    "pretrained_weights = 'bert-base-uncased'\n",
    "tokenizer = BertTokenizer.from_pretrained(pretrained_weights)\n",
    "model_class = BertModel\n",
    "# Models can return full list of hidden-states & attentions weights at each layer\n",
    "model = model_class.from_pretrained(pretrained_weights,\n",
    "                                    output_hidden_states=True,\n",
    "                                    output_attentions=True)"
   ]
  },
  {
   "cell_type": "code",
   "execution_count": 3,
   "metadata": {},
   "outputs": [],
   "source": [
    "# optional, use the GPU\n",
    "model.to('cuda');"
   ]
  },
  {
   "cell_type": "code",
   "execution_count": 4,
   "metadata": {},
   "outputs": [],
   "source": [
    "# Example Winograd Schema\n",
    "\n",
    "sentence_a = \"The trophy does not fit into the suitcase, because it is too big.\"\n",
    "pronoun = \"it\"\n",
    "\n",
    "#candidates for resolving the pronoun\n",
    "candidate_a = \"trophy\"\n",
    "candidate_b = \"suitcase\"\n"
   ]
  },
  {
   "cell_type": "code",
   "execution_count": 5,
   "metadata": {},
   "outputs": [],
   "source": [
    "scores = MAS(model, tokenizer,  pronoun, candidate_a, candidate_b, sentence_a)"
   ]
  },
  {
   "cell_type": "code",
   "execution_count": 6,
   "metadata": {},
   "outputs": [
    {
     "name": "stdout",
     "output_type": "stream",
     "text": [
      "MAS favors candidate A: 'trophy' for pronoun replacement - score = 0.5138888888888888\n"
     ]
    }
   ],
   "source": [
    "if scores[0] > scores[1]:\n",
    "    print(\"MAS favors candidate A: \\'\"+candidate_a+\"\\' for pronoun replacement - score = \"+str(scores[0]))\n",
    "else:\n",
    "    print(\"MAS favors candidate B: \\'\"+candidate_b+\"\\' for pronoun replacement - score = \"+str(scores[1]))"
   ]
  },
  {
   "cell_type": "code",
   "execution_count": null,
   "metadata": {},
   "outputs": [],
   "source": []
  }
 ],
 "metadata": {
  "kernelspec": {
   "display_name": "Python 3",
   "language": "python",
   "name": "python3"
  },
  "language_info": {
   "codemirror_mode": {
    "name": "ipython",
    "version": 3
   },
   "file_extension": ".py",
   "mimetype": "text/x-python",
   "name": "python",
   "nbconvert_exporter": "python",
   "pygments_lexer": "ipython3",
   "version": "3.7.6"
  }
 },
 "nbformat": 4,
 "nbformat_minor": 4
}
